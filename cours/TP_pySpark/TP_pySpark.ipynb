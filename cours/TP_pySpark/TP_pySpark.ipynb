{
 "cells": [
  {
   "cell_type": "code",
   "execution_count": 1,
   "metadata": {},
   "outputs": [],
   "source": [
    "from pyspark import *"
   ]
  },
  {
   "cell_type": "code",
   "execution_count": 2,
   "metadata": {},
   "outputs": [],
   "source": [
    "sc = SparkContext(master=\"local\", appName=\"test\")"
   ]
  },
  {
   "cell_type": "code",
   "execution_count": 3,
   "metadata": {},
   "outputs": [
    {
     "data": {
      "text/html": [
       "\n",
       "        <div>\n",
       "            <p><b>SparkContext</b></p>\n",
       "\n",
       "            <p><a href=\"http://705c5ce0cb93:4040\">Spark UI</a></p>\n",
       "\n",
       "            <dl>\n",
       "              <dt>Version</dt>\n",
       "                <dd><code>v2.4.4</code></dd>\n",
       "              <dt>Master</dt>\n",
       "                <dd><code>local</code></dd>\n",
       "              <dt>AppName</dt>\n",
       "                <dd><code>test</code></dd>\n",
       "            </dl>\n",
       "        </div>\n",
       "        "
      ],
      "text/plain": [
       "<SparkContext master=local appName=test>"
      ]
     },
     "execution_count": 3,
     "metadata": {},
     "output_type": "execute_result"
    }
   ],
   "source": [
    "sc"
   ]
  },
  {
   "cell_type": "code",
   "execution_count": 4,
   "metadata": {},
   "outputs": [],
   "source": [
    "import urllib\n",
    "data = urllib.request.urlretrieve('http://kdd.ics.uci.edu/databases/kddcup99/kddcup.data_10_percent.gz', 'data_10_percent.gz')\n",
    "data_file = './data_10_percent.gz'\n",
    "\n",
    "lines = sc.textFile(data_file)"
   ]
  },
  {
   "cell_type": "code",
   "execution_count": 5,
   "metadata": {},
   "outputs": [],
   "source": [
    "from pyspark.sql import SQLContext\n",
    "sqlContext = SQLContext(sc)"
   ]
  },
  {
   "cell_type": "code",
   "execution_count": 6,
   "metadata": {},
   "outputs": [
    {
     "data": {
      "text/plain": [
       "<pyspark.sql.context.SQLContext at 0x7f8bbc1a1b38>"
      ]
     },
     "execution_count": 6,
     "metadata": {},
     "output_type": "execute_result"
    }
   ],
   "source": [
    "sqlContext"
   ]
  },
  {
   "cell_type": "code",
   "execution_count": 7,
   "metadata": {},
   "outputs": [
    {
     "data": {
      "text/plain": [
       "tuple"
      ]
     },
     "execution_count": 7,
     "metadata": {},
     "output_type": "execute_result"
    }
   ],
   "source": [
    "type(data)"
   ]
  },
  {
   "cell_type": "code",
   "execution_count": 8,
   "metadata": {},
   "outputs": [
    {
     "data": {
      "text/plain": [
       "[['0',\n",
       "  'tcp',\n",
       "  'http',\n",
       "  'SF',\n",
       "  '181',\n",
       "  '5450',\n",
       "  '0',\n",
       "  '0',\n",
       "  '0',\n",
       "  '0',\n",
       "  '0',\n",
       "  '1',\n",
       "  '0',\n",
       "  '0',\n",
       "  '0',\n",
       "  '0',\n",
       "  '0',\n",
       "  '0',\n",
       "  '0',\n",
       "  '0',\n",
       "  '0',\n",
       "  '0',\n",
       "  '8',\n",
       "  '8',\n",
       "  '0.00',\n",
       "  '0.00',\n",
       "  '0.00',\n",
       "  '0.00',\n",
       "  '1.00',\n",
       "  '0.00',\n",
       "  '0.00',\n",
       "  '9',\n",
       "  '9',\n",
       "  '1.00',\n",
       "  '0.00',\n",
       "  '0.11',\n",
       "  '0.00',\n",
       "  '0.00',\n",
       "  '0.00',\n",
       "  '0.00',\n",
       "  '0.00',\n",
       "  'normal.'],\n",
       " ['0',\n",
       "  'tcp',\n",
       "  'http',\n",
       "  'SF',\n",
       "  '239',\n",
       "  '486',\n",
       "  '0',\n",
       "  '0',\n",
       "  '0',\n",
       "  '0',\n",
       "  '0',\n",
       "  '1',\n",
       "  '0',\n",
       "  '0',\n",
       "  '0',\n",
       "  '0',\n",
       "  '0',\n",
       "  '0',\n",
       "  '0',\n",
       "  '0',\n",
       "  '0',\n",
       "  '0',\n",
       "  '8',\n",
       "  '8',\n",
       "  '0.00',\n",
       "  '0.00',\n",
       "  '0.00',\n",
       "  '0.00',\n",
       "  '1.00',\n",
       "  '0.00',\n",
       "  '0.00',\n",
       "  '19',\n",
       "  '19',\n",
       "  '1.00',\n",
       "  '0.00',\n",
       "  '0.05',\n",
       "  '0.00',\n",
       "  '0.00',\n",
       "  '0.00',\n",
       "  '0.00',\n",
       "  '0.00',\n",
       "  'normal.'],\n",
       " ['0',\n",
       "  'tcp',\n",
       "  'http',\n",
       "  'SF',\n",
       "  '235',\n",
       "  '1337',\n",
       "  '0',\n",
       "  '0',\n",
       "  '0',\n",
       "  '0',\n",
       "  '0',\n",
       "  '1',\n",
       "  '0',\n",
       "  '0',\n",
       "  '0',\n",
       "  '0',\n",
       "  '0',\n",
       "  '0',\n",
       "  '0',\n",
       "  '0',\n",
       "  '0',\n",
       "  '0',\n",
       "  '8',\n",
       "  '8',\n",
       "  '0.00',\n",
       "  '0.00',\n",
       "  '0.00',\n",
       "  '0.00',\n",
       "  '1.00',\n",
       "  '0.00',\n",
       "  '0.00',\n",
       "  '29',\n",
       "  '29',\n",
       "  '1.00',\n",
       "  '0.00',\n",
       "  '0.03',\n",
       "  '0.00',\n",
       "  '0.00',\n",
       "  '0.00',\n",
       "  '0.00',\n",
       "  '0.00',\n",
       "  'normal.'],\n",
       " ['0',\n",
       "  'tcp',\n",
       "  'http',\n",
       "  'SF',\n",
       "  '219',\n",
       "  '1337',\n",
       "  '0',\n",
       "  '0',\n",
       "  '0',\n",
       "  '0',\n",
       "  '0',\n",
       "  '1',\n",
       "  '0',\n",
       "  '0',\n",
       "  '0',\n",
       "  '0',\n",
       "  '0',\n",
       "  '0',\n",
       "  '0',\n",
       "  '0',\n",
       "  '0',\n",
       "  '0',\n",
       "  '6',\n",
       "  '6',\n",
       "  '0.00',\n",
       "  '0.00',\n",
       "  '0.00',\n",
       "  '0.00',\n",
       "  '1.00',\n",
       "  '0.00',\n",
       "  '0.00',\n",
       "  '39',\n",
       "  '39',\n",
       "  '1.00',\n",
       "  '0.00',\n",
       "  '0.03',\n",
       "  '0.00',\n",
       "  '0.00',\n",
       "  '0.00',\n",
       "  '0.00',\n",
       "  '0.00',\n",
       "  'normal.'],\n",
       " ['0',\n",
       "  'tcp',\n",
       "  'http',\n",
       "  'SF',\n",
       "  '217',\n",
       "  '2032',\n",
       "  '0',\n",
       "  '0',\n",
       "  '0',\n",
       "  '0',\n",
       "  '0',\n",
       "  '1',\n",
       "  '0',\n",
       "  '0',\n",
       "  '0',\n",
       "  '0',\n",
       "  '0',\n",
       "  '0',\n",
       "  '0',\n",
       "  '0',\n",
       "  '0',\n",
       "  '0',\n",
       "  '6',\n",
       "  '6',\n",
       "  '0.00',\n",
       "  '0.00',\n",
       "  '0.00',\n",
       "  '0.00',\n",
       "  '1.00',\n",
       "  '0.00',\n",
       "  '0.00',\n",
       "  '49',\n",
       "  '49',\n",
       "  '1.00',\n",
       "  '0.00',\n",
       "  '0.02',\n",
       "  '0.00',\n",
       "  '0.00',\n",
       "  '0.00',\n",
       "  '0.00',\n",
       "  '0.00',\n",
       "  'normal.']]"
      ]
     },
     "execution_count": 8,
     "metadata": {},
     "output_type": "execute_result"
    }
   ],
   "source": [
    "data = lines.map(lambda x: x.split(','))\n",
    "data.take(5)"
   ]
  },
  {
   "cell_type": "code",
   "execution_count": 9,
   "metadata": {},
   "outputs": [
    {
     "data": {
      "text/plain": [
       "pyspark.rdd.PipelinedRDD"
      ]
     },
     "execution_count": 9,
     "metadata": {},
     "output_type": "execute_result"
    }
   ],
   "source": [
    "type(data)"
   ]
  },
  {
   "cell_type": "code",
   "execution_count": 10,
   "metadata": {},
   "outputs": [],
   "source": [
    "from pyspark.sql.types import StructType\n",
    "from pyspark.sql.types import StructField\n",
    "from pyspark.sql.types import IntegerType\n",
    "from pyspark.sql.types import StringType\n",
    "from pyspark.sql.types import IntegerType"
   ]
  },
  {
   "cell_type": "code",
   "execution_count": 11,
   "metadata": {},
   "outputs": [
    {
     "data": {
      "text/plain": [
       "StructType(List(StructField(duration,IntegerType,true),StructField(protocol_type,StringType,true),StructField(service,StringType,true),StructField(flag,StringType,true),StructField(src_bytes,IntegerType,true),StructField(dst_bytes,IntegerType,true),StructField(interactions,StringType,true)))"
      ]
     },
     "execution_count": 11,
     "metadata": {},
     "output_type": "execute_result"
    }
   ],
   "source": [
    "schema = StructType([\n",
    "    StructField(\"duration\", IntegerType(), True),\n",
    "    StructField(\"protocol_type\", StringType(), True),\n",
    "    StructField(\"service\", StringType(), True),\n",
    "    StructField(\"flag\", StringType(), True),\n",
    "    StructField(\"src_bytes\", IntegerType(), True),\n",
    "    StructField(\"dst_bytes\", IntegerType(), True),\n",
    "    StructField(\"interactions\", StringType(), True),\n",
    "    ])\n",
    "schema"
   ]
  },
  {
   "cell_type": "code",
   "execution_count": 12,
   "metadata": {},
   "outputs": [
    {
     "data": {
      "text/plain": [
       "pyspark.sql.types.StructType"
      ]
     },
     "execution_count": 12,
     "metadata": {},
     "output_type": "execute_result"
    }
   ],
   "source": [
    "type(schema)"
   ]
  },
  {
   "cell_type": "code",
   "execution_count": 13,
   "metadata": {},
   "outputs": [
    {
     "data": {
      "text/plain": [
       "[(0, 'tcp', 'http', 'SF', 181, 5450, 'normal.'),\n",
       " (0, 'tcp', 'http', 'SF', 239, 486, 'normal.'),\n",
       " (0, 'tcp', 'http', 'SF', 235, 1337, 'normal.')]"
      ]
     },
     "execution_count": 13,
     "metadata": {},
     "output_type": "execute_result"
    }
   ],
   "source": [
    "newData = data.map(lambda key:(int(key[0]),key[1],key[2],key[3],int(key[4]),int(key[5]),key[-1]))\n",
    "newData.take(3)"
   ]
  },
  {
   "cell_type": "code",
   "execution_count": 14,
   "metadata": {},
   "outputs": [
    {
     "data": {
      "text/plain": [
       "DataFrame[duration: int, protocol_type: string, service: string, flag: string, src_bytes: int, dst_bytes: int, interactions: string]"
      ]
     },
     "execution_count": 14,
     "metadata": {},
     "output_type": "execute_result"
    }
   ],
   "source": [
    "df = sqlContext.createDataFrame(newData, schema)\n",
    "df"
   ]
  },
  {
   "cell_type": "code",
   "execution_count": 15,
   "metadata": {},
   "outputs": [
    {
     "name": "stdout",
     "output_type": "stream",
     "text": [
      "+--------+-------------+-------+----+---------+---------+------------+\n",
      "|duration|protocol_type|service|flag|src_bytes|dst_bytes|interactions|\n",
      "+--------+-------------+-------+----+---------+---------+------------+\n",
      "|       0|          tcp|   http|  SF|      181|     5450|     normal.|\n",
      "|       0|          tcp|   http|  SF|      239|      486|     normal.|\n",
      "|       0|          tcp|   http|  SF|      235|     1337|     normal.|\n",
      "|       0|          tcp|   http|  SF|      219|     1337|     normal.|\n",
      "|       0|          tcp|   http|  SF|      217|     2032|     normal.|\n",
      "|       0|          tcp|   http|  SF|      217|     2032|     normal.|\n",
      "|       0|          tcp|   http|  SF|      212|     1940|     normal.|\n",
      "|       0|          tcp|   http|  SF|      159|     4087|     normal.|\n",
      "|       0|          tcp|   http|  SF|      210|      151|     normal.|\n",
      "|       0|          tcp|   http|  SF|      212|      786|     normal.|\n",
      "+--------+-------------+-------+----+---------+---------+------------+\n",
      "only showing top 10 rows\n",
      "\n"
     ]
    }
   ],
   "source": [
    "df.show(10)"
   ]
  },
  {
   "cell_type": "code",
   "execution_count": 16,
   "metadata": {},
   "outputs": [
    {
     "name": "stdout",
     "output_type": "stream",
     "text": [
      "+------------+\n",
      "|interactions|\n",
      "+------------+\n",
      "|     normal.|\n",
      "|     normal.|\n",
      "|     normal.|\n",
      "|     normal.|\n",
      "|     normal.|\n",
      "|     normal.|\n",
      "|     normal.|\n",
      "|     normal.|\n",
      "|     normal.|\n",
      "|     normal.|\n",
      "|     normal.|\n",
      "|     normal.|\n",
      "|     normal.|\n",
      "|     normal.|\n",
      "|     normal.|\n",
      "|     normal.|\n",
      "|     normal.|\n",
      "|     normal.|\n",
      "|     normal.|\n",
      "|     normal.|\n",
      "+------------+\n",
      "only showing top 20 rows\n",
      "\n"
     ]
    }
   ],
   "source": [
    "df.createOrReplaceTempView(\"interactions\")\n",
    "sqlContext.sql(\"SELECT interactions FROM interactions\").show()"
   ]
  },
  {
   "cell_type": "code",
   "execution_count": 17,
   "metadata": {},
   "outputs": [
    {
     "data": {
      "text/plain": [
       "139"
      ]
     },
     "execution_count": 17,
     "metadata": {},
     "output_type": "execute_result"
    }
   ],
   "source": [
    "req = sqlContext.sql(\"SELECT duration,dst_bytes FROM interactions WHERE duration > 1000 AND dst_bytes == 0 \")\n",
    "req.count()"
   ]
  },
  {
   "cell_type": "code",
   "execution_count": 18,
   "metadata": {},
   "outputs": [
    {
     "data": {
      "text/plain": [
       "pyspark.sql.dataframe.DataFrame"
      ]
     },
     "execution_count": 18,
     "metadata": {},
     "output_type": "execute_result"
    }
   ],
   "source": [
    "type(req) "
   ]
  },
  {
   "cell_type": "code",
   "execution_count": 19,
   "metadata": {},
   "outputs": [],
   "source": [
    "#req.take(req.count())"
   ]
  },
  {
   "cell_type": "code",
   "execution_count": 20,
   "metadata": {},
   "outputs": [
    {
     "data": {
      "text/plain": [
       "['Duration: 5057, Dest. bytes: 0',\n",
       " 'Duration: 5059, Dest. bytes: 0',\n",
       " 'Duration: 5051, Dest. bytes: 0',\n",
       " 'Duration: 5056, Dest. bytes: 0',\n",
       " 'Duration: 5051, Dest. bytes: 0',\n",
       " 'Duration: 5039, Dest. bytes: 0',\n",
       " 'Duration: 5062, Dest. bytes: 0',\n",
       " 'Duration: 5041, Dest. bytes: 0',\n",
       " 'Duration: 5056, Dest. bytes: 0',\n",
       " 'Duration: 5064, Dest. bytes: 0',\n",
       " 'Duration: 5043, Dest. bytes: 0',\n",
       " 'Duration: 5061, Dest. bytes: 0',\n",
       " 'Duration: 5049, Dest. bytes: 0',\n",
       " 'Duration: 5061, Dest. bytes: 0',\n",
       " 'Duration: 5048, Dest. bytes: 0',\n",
       " 'Duration: 5047, Dest. bytes: 0',\n",
       " 'Duration: 5044, Dest. bytes: 0',\n",
       " 'Duration: 5063, Dest. bytes: 0',\n",
       " 'Duration: 5068, Dest. bytes: 0',\n",
       " 'Duration: 5062, Dest. bytes: 0',\n",
       " 'Duration: 5046, Dest. bytes: 0',\n",
       " 'Duration: 5052, Dest. bytes: 0',\n",
       " 'Duration: 5044, Dest. bytes: 0',\n",
       " 'Duration: 5054, Dest. bytes: 0',\n",
       " 'Duration: 5039, Dest. bytes: 0',\n",
       " 'Duration: 5058, Dest. bytes: 0',\n",
       " 'Duration: 5051, Dest. bytes: 0',\n",
       " 'Duration: 5032, Dest. bytes: 0',\n",
       " 'Duration: 5063, Dest. bytes: 0',\n",
       " 'Duration: 5040, Dest. bytes: 0',\n",
       " 'Duration: 5051, Dest. bytes: 0',\n",
       " 'Duration: 5066, Dest. bytes: 0',\n",
       " 'Duration: 5044, Dest. bytes: 0',\n",
       " 'Duration: 5051, Dest. bytes: 0',\n",
       " 'Duration: 5036, Dest. bytes: 0',\n",
       " 'Duration: 5055, Dest. bytes: 0',\n",
       " 'Duration: 2426, Dest. bytes: 0',\n",
       " 'Duration: 5047, Dest. bytes: 0',\n",
       " 'Duration: 5057, Dest. bytes: 0',\n",
       " 'Duration: 5037, Dest. bytes: 0',\n",
       " 'Duration: 5057, Dest. bytes: 0',\n",
       " 'Duration: 5062, Dest. bytes: 0',\n",
       " 'Duration: 5051, Dest. bytes: 0',\n",
       " 'Duration: 5051, Dest. bytes: 0',\n",
       " 'Duration: 5053, Dest. bytes: 0',\n",
       " 'Duration: 5064, Dest. bytes: 0',\n",
       " 'Duration: 5044, Dest. bytes: 0',\n",
       " 'Duration: 5051, Dest. bytes: 0',\n",
       " 'Duration: 5033, Dest. bytes: 0',\n",
       " 'Duration: 5066, Dest. bytes: 0',\n",
       " 'Duration: 5063, Dest. bytes: 0',\n",
       " 'Duration: 5056, Dest. bytes: 0',\n",
       " 'Duration: 5042, Dest. bytes: 0',\n",
       " 'Duration: 5063, Dest. bytes: 0',\n",
       " 'Duration: 5060, Dest. bytes: 0',\n",
       " 'Duration: 5056, Dest. bytes: 0',\n",
       " 'Duration: 5049, Dest. bytes: 0',\n",
       " 'Duration: 5043, Dest. bytes: 0',\n",
       " 'Duration: 5039, Dest. bytes: 0',\n",
       " 'Duration: 5041, Dest. bytes: 0',\n",
       " 'Duration: 42448, Dest. bytes: 0',\n",
       " 'Duration: 42088, Dest. bytes: 0',\n",
       " 'Duration: 41065, Dest. bytes: 0',\n",
       " 'Duration: 40929, Dest. bytes: 0',\n",
       " 'Duration: 40806, Dest. bytes: 0',\n",
       " 'Duration: 40682, Dest. bytes: 0',\n",
       " 'Duration: 40571, Dest. bytes: 0',\n",
       " 'Duration: 40448, Dest. bytes: 0',\n",
       " 'Duration: 40339, Dest. bytes: 0',\n",
       " 'Duration: 40232, Dest. bytes: 0',\n",
       " 'Duration: 40121, Dest. bytes: 0',\n",
       " 'Duration: 36783, Dest. bytes: 0',\n",
       " 'Duration: 36674, Dest. bytes: 0',\n",
       " 'Duration: 36570, Dest. bytes: 0',\n",
       " 'Duration: 36467, Dest. bytes: 0',\n",
       " 'Duration: 36323, Dest. bytes: 0',\n",
       " 'Duration: 36204, Dest. bytes: 0',\n",
       " 'Duration: 32038, Dest. bytes: 0',\n",
       " 'Duration: 31925, Dest. bytes: 0',\n",
       " 'Duration: 31809, Dest. bytes: 0',\n",
       " 'Duration: 31709, Dest. bytes: 0',\n",
       " 'Duration: 31601, Dest. bytes: 0',\n",
       " 'Duration: 31501, Dest. bytes: 0',\n",
       " 'Duration: 31401, Dest. bytes: 0',\n",
       " 'Duration: 31301, Dest. bytes: 0',\n",
       " 'Duration: 31194, Dest. bytes: 0',\n",
       " 'Duration: 31061, Dest. bytes: 0',\n",
       " 'Duration: 30935, Dest. bytes: 0',\n",
       " 'Duration: 30835, Dest. bytes: 0',\n",
       " 'Duration: 30735, Dest. bytes: 0',\n",
       " 'Duration: 30619, Dest. bytes: 0',\n",
       " 'Duration: 30518, Dest. bytes: 0',\n",
       " 'Duration: 30418, Dest. bytes: 0',\n",
       " 'Duration: 30317, Dest. bytes: 0',\n",
       " 'Duration: 30217, Dest. bytes: 0',\n",
       " 'Duration: 30077, Dest. bytes: 0',\n",
       " 'Duration: 25420, Dest. bytes: 0',\n",
       " 'Duration: 22921, Dest. bytes: 0',\n",
       " 'Duration: 22821, Dest. bytes: 0',\n",
       " 'Duration: 22721, Dest. bytes: 0',\n",
       " 'Duration: 22616, Dest. bytes: 0',\n",
       " 'Duration: 22516, Dest. bytes: 0',\n",
       " 'Duration: 22416, Dest. bytes: 0',\n",
       " 'Duration: 22316, Dest. bytes: 0',\n",
       " 'Duration: 22216, Dest. bytes: 0',\n",
       " 'Duration: 21987, Dest. bytes: 0',\n",
       " 'Duration: 21887, Dest. bytes: 0',\n",
       " 'Duration: 21767, Dest. bytes: 0',\n",
       " 'Duration: 21661, Dest. bytes: 0',\n",
       " 'Duration: 21561, Dest. bytes: 0',\n",
       " 'Duration: 21455, Dest. bytes: 0',\n",
       " 'Duration: 21334, Dest. bytes: 0',\n",
       " 'Duration: 21223, Dest. bytes: 0',\n",
       " 'Duration: 21123, Dest. bytes: 0',\n",
       " 'Duration: 20983, Dest. bytes: 0',\n",
       " 'Duration: 14682, Dest. bytes: 0',\n",
       " 'Duration: 14420, Dest. bytes: 0',\n",
       " 'Duration: 14319, Dest. bytes: 0',\n",
       " 'Duration: 14198, Dest. bytes: 0',\n",
       " 'Duration: 14098, Dest. bytes: 0',\n",
       " 'Duration: 13998, Dest. bytes: 0',\n",
       " 'Duration: 13898, Dest. bytes: 0',\n",
       " 'Duration: 13796, Dest. bytes: 0',\n",
       " 'Duration: 13678, Dest. bytes: 0',\n",
       " 'Duration: 13578, Dest. bytes: 0',\n",
       " 'Duration: 13448, Dest. bytes: 0',\n",
       " 'Duration: 13348, Dest. bytes: 0',\n",
       " 'Duration: 13241, Dest. bytes: 0',\n",
       " 'Duration: 13141, Dest. bytes: 0',\n",
       " 'Duration: 13033, Dest. bytes: 0',\n",
       " 'Duration: 12933, Dest. bytes: 0',\n",
       " 'Duration: 12833, Dest. bytes: 0',\n",
       " 'Duration: 12733, Dest. bytes: 0',\n",
       " 'Duration: 12001, Dest. bytes: 0',\n",
       " 'Duration: 5678, Dest. bytes: 0',\n",
       " 'Duration: 5010, Dest. bytes: 0',\n",
       " 'Duration: 1298, Dest. bytes: 0',\n",
       " 'Duration: 1031, Dest. bytes: 0',\n",
       " 'Duration: 36438, Dest. bytes: 0']"
      ]
     },
     "execution_count": 20,
     "metadata": {},
     "output_type": "execute_result"
    }
   ],
   "source": [
    "dataReq = req.rdd.map(lambda rowItem: \"Duration: {}, Dest. bytes: {}\".format(rowItem.duration, rowItem.dst_bytes))\n",
    "dataReq.take(dataReq.count())"
   ]
  },
  {
   "cell_type": "code",
   "execution_count": 21,
   "metadata": {},
   "outputs": [],
   "source": [
    "from time import perf_counter"
   ]
  },
  {
   "cell_type": "code",
   "execution_count": 22,
   "metadata": {},
   "outputs": [
    {
     "name": "stdout",
     "output_type": "stream",
     "text": [
      "+-------------+------+\n",
      "|protocol_type| count|\n",
      "+-------------+------+\n",
      "|          tcp|190065|\n",
      "|          udp| 20354|\n",
      "|         icmp|283602|\n",
      "+-------------+------+\n",
      "\n",
      "Times to execute the request : 12.557s\n"
     ]
    }
   ],
   "source": [
    "t1_start = perf_counter()  \n",
    "sqlContext.sql(\"SELECT protocol_type, count('protocol_type') as count FROM interactions GROUP BY protocol_type\").show()\n",
    "t1_stop = perf_counter()  \n",
    "runTimeQuery = t1_stop - t1_start\n",
    "print(\"Times to execute the request : {0:.3f}s\".format(runTimeQuery))"
   ]
  },
  {
   "cell_type": "code",
   "execution_count": 23,
   "metadata": {},
   "outputs": [
    {
     "name": "stdout",
     "output_type": "stream",
     "text": [
      "+-------------+-----+\n",
      "|protocol_type|count|\n",
      "+-------------+-----+\n",
      "|          tcp|  139|\n",
      "+-------------+-----+\n",
      "\n",
      "Requete executee en 11.109 secondes\n"
     ]
    }
   ],
   "source": [
    "#selectionner les colonnes duration, dst_bytes ou le protocole est tcp et les duration > 1000 avec des dst_bytes nuls\n",
    "#df.filter(df.age > 3).collect()\n",
    "#df.select(df.duration, df.dst_bytes).filter(\"protocol_type = 'tcp' AND duration > 1000 AND dst_bytes = 0\").collect()\n",
    "t1_start = perf_counter()  \n",
    "df.filter(\"duration > 1000 AND dst_bytes = 0\").groupby(\"protocol_type\").count().show()\n",
    "t1_stop = perf_counter()  \n",
    "runTimeQuery = t1_stop - t1_start\n",
    "print(\"Requete executee en {0:.3f} secondes\".format(runTimeQuery))"
   ]
  },
  {
   "cell_type": "code",
   "execution_count": 24,
   "metadata": {},
   "outputs": [
    {
     "data": {
      "text/plain": [
       "[Row(duration=5057, dst_bytes=0),\n",
       " Row(duration=5059, dst_bytes=0),\n",
       " Row(duration=5051, dst_bytes=0),\n",
       " Row(duration=5056, dst_bytes=0),\n",
       " Row(duration=5051, dst_bytes=0),\n",
       " Row(duration=5039, dst_bytes=0),\n",
       " Row(duration=5062, dst_bytes=0),\n",
       " Row(duration=5041, dst_bytes=0),\n",
       " Row(duration=5056, dst_bytes=0),\n",
       " Row(duration=5064, dst_bytes=0),\n",
       " Row(duration=5043, dst_bytes=0),\n",
       " Row(duration=5061, dst_bytes=0),\n",
       " Row(duration=5049, dst_bytes=0),\n",
       " Row(duration=5061, dst_bytes=0),\n",
       " Row(duration=5048, dst_bytes=0),\n",
       " Row(duration=5047, dst_bytes=0),\n",
       " Row(duration=5044, dst_bytes=0),\n",
       " Row(duration=5063, dst_bytes=0),\n",
       " Row(duration=5068, dst_bytes=0),\n",
       " Row(duration=5062, dst_bytes=0),\n",
       " Row(duration=5046, dst_bytes=0),\n",
       " Row(duration=5052, dst_bytes=0),\n",
       " Row(duration=5044, dst_bytes=0),\n",
       " Row(duration=5054, dst_bytes=0),\n",
       " Row(duration=5039, dst_bytes=0),\n",
       " Row(duration=5058, dst_bytes=0),\n",
       " Row(duration=5051, dst_bytes=0),\n",
       " Row(duration=5032, dst_bytes=0),\n",
       " Row(duration=5063, dst_bytes=0),\n",
       " Row(duration=5040, dst_bytes=0),\n",
       " Row(duration=5051, dst_bytes=0),\n",
       " Row(duration=5066, dst_bytes=0),\n",
       " Row(duration=5044, dst_bytes=0),\n",
       " Row(duration=5051, dst_bytes=0),\n",
       " Row(duration=5036, dst_bytes=0),\n",
       " Row(duration=5055, dst_bytes=0),\n",
       " Row(duration=2426, dst_bytes=0),\n",
       " Row(duration=5047, dst_bytes=0),\n",
       " Row(duration=5057, dst_bytes=0),\n",
       " Row(duration=5037, dst_bytes=0),\n",
       " Row(duration=5057, dst_bytes=0),\n",
       " Row(duration=5062, dst_bytes=0),\n",
       " Row(duration=5051, dst_bytes=0),\n",
       " Row(duration=5051, dst_bytes=0),\n",
       " Row(duration=5053, dst_bytes=0),\n",
       " Row(duration=5064, dst_bytes=0),\n",
       " Row(duration=5044, dst_bytes=0),\n",
       " Row(duration=5051, dst_bytes=0),\n",
       " Row(duration=5033, dst_bytes=0),\n",
       " Row(duration=5066, dst_bytes=0),\n",
       " Row(duration=5063, dst_bytes=0),\n",
       " Row(duration=5056, dst_bytes=0),\n",
       " Row(duration=5042, dst_bytes=0),\n",
       " Row(duration=5063, dst_bytes=0),\n",
       " Row(duration=5060, dst_bytes=0),\n",
       " Row(duration=5056, dst_bytes=0),\n",
       " Row(duration=5049, dst_bytes=0),\n",
       " Row(duration=5043, dst_bytes=0),\n",
       " Row(duration=5039, dst_bytes=0),\n",
       " Row(duration=5041, dst_bytes=0),\n",
       " Row(duration=42448, dst_bytes=0),\n",
       " Row(duration=42088, dst_bytes=0),\n",
       " Row(duration=41065, dst_bytes=0),\n",
       " Row(duration=40929, dst_bytes=0),\n",
       " Row(duration=40806, dst_bytes=0),\n",
       " Row(duration=40682, dst_bytes=0),\n",
       " Row(duration=40571, dst_bytes=0),\n",
       " Row(duration=40448, dst_bytes=0),\n",
       " Row(duration=40339, dst_bytes=0),\n",
       " Row(duration=40232, dst_bytes=0),\n",
       " Row(duration=40121, dst_bytes=0),\n",
       " Row(duration=36783, dst_bytes=0),\n",
       " Row(duration=36674, dst_bytes=0),\n",
       " Row(duration=36570, dst_bytes=0),\n",
       " Row(duration=36467, dst_bytes=0),\n",
       " Row(duration=36323, dst_bytes=0),\n",
       " Row(duration=36204, dst_bytes=0),\n",
       " Row(duration=32038, dst_bytes=0),\n",
       " Row(duration=31925, dst_bytes=0),\n",
       " Row(duration=31809, dst_bytes=0),\n",
       " Row(duration=31709, dst_bytes=0),\n",
       " Row(duration=31601, dst_bytes=0),\n",
       " Row(duration=31501, dst_bytes=0),\n",
       " Row(duration=31401, dst_bytes=0),\n",
       " Row(duration=31301, dst_bytes=0),\n",
       " Row(duration=31194, dst_bytes=0),\n",
       " Row(duration=31061, dst_bytes=0),\n",
       " Row(duration=30935, dst_bytes=0),\n",
       " Row(duration=30835, dst_bytes=0),\n",
       " Row(duration=30735, dst_bytes=0),\n",
       " Row(duration=30619, dst_bytes=0),\n",
       " Row(duration=30518, dst_bytes=0),\n",
       " Row(duration=30418, dst_bytes=0),\n",
       " Row(duration=30317, dst_bytes=0),\n",
       " Row(duration=30217, dst_bytes=0),\n",
       " Row(duration=30077, dst_bytes=0),\n",
       " Row(duration=25420, dst_bytes=0),\n",
       " Row(duration=22921, dst_bytes=0),\n",
       " Row(duration=22821, dst_bytes=0),\n",
       " Row(duration=22721, dst_bytes=0),\n",
       " Row(duration=22616, dst_bytes=0),\n",
       " Row(duration=22516, dst_bytes=0),\n",
       " Row(duration=22416, dst_bytes=0),\n",
       " Row(duration=22316, dst_bytes=0),\n",
       " Row(duration=22216, dst_bytes=0),\n",
       " Row(duration=21987, dst_bytes=0),\n",
       " Row(duration=21887, dst_bytes=0),\n",
       " Row(duration=21767, dst_bytes=0),\n",
       " Row(duration=21661, dst_bytes=0),\n",
       " Row(duration=21561, dst_bytes=0),\n",
       " Row(duration=21455, dst_bytes=0),\n",
       " Row(duration=21334, dst_bytes=0),\n",
       " Row(duration=21223, dst_bytes=0),\n",
       " Row(duration=21123, dst_bytes=0),\n",
       " Row(duration=20983, dst_bytes=0),\n",
       " Row(duration=14682, dst_bytes=0),\n",
       " Row(duration=14420, dst_bytes=0),\n",
       " Row(duration=14319, dst_bytes=0),\n",
       " Row(duration=14198, dst_bytes=0),\n",
       " Row(duration=14098, dst_bytes=0),\n",
       " Row(duration=13998, dst_bytes=0),\n",
       " Row(duration=13898, dst_bytes=0),\n",
       " Row(duration=13796, dst_bytes=0),\n",
       " Row(duration=13678, dst_bytes=0),\n",
       " Row(duration=13578, dst_bytes=0),\n",
       " Row(duration=13448, dst_bytes=0),\n",
       " Row(duration=13348, dst_bytes=0),\n",
       " Row(duration=13241, dst_bytes=0),\n",
       " Row(duration=13141, dst_bytes=0),\n",
       " Row(duration=13033, dst_bytes=0),\n",
       " Row(duration=12933, dst_bytes=0),\n",
       " Row(duration=12833, dst_bytes=0),\n",
       " Row(duration=12733, dst_bytes=0),\n",
       " Row(duration=12001, dst_bytes=0),\n",
       " Row(duration=5678, dst_bytes=0),\n",
       " Row(duration=5010, dst_bytes=0),\n",
       " Row(duration=1298, dst_bytes=0),\n",
       " Row(duration=1031, dst_bytes=0),\n",
       " Row(duration=36438, dst_bytes=0)]"
      ]
     },
     "execution_count": 24,
     "metadata": {},
     "output_type": "execute_result"
    }
   ],
   "source": [
    "df.select(df.duration, df.dst_bytes).filter(\"protocol_type = 'tcp' AND duration > 1000 AND dst_bytes = 0\").collect()"
   ]
  },
  {
   "cell_type": "code",
   "execution_count": 25,
   "metadata": {},
   "outputs": [],
   "source": [
    "from pyspark.sql.functions import udf\n",
    "import pyspark.sql.functions as F\n",
    "\n",
    "def attack_or_normal_func(s):\n",
    "    return \"normal\" if s == \"normal.\" else \"attack\""
   ]
  },
  {
   "cell_type": "code",
   "execution_count": 26,
   "metadata": {},
   "outputs": [
    {
     "name": "stdout",
     "output_type": "stream",
     "text": [
      "+--------+-------------+-------+----+---------+---------+------------+------+\n",
      "|duration|protocol_type|service|flag|src_bytes|dst_bytes|interactions| label|\n",
      "+--------+-------------+-------+----+---------+---------+------------+------+\n",
      "|       0|          tcp|   http|  SF|      181|     5450|     normal.|normal|\n",
      "|       0|          tcp|   http|  SF|      239|      486|     normal.|normal|\n",
      "|       0|          tcp|   http|  SF|      235|     1337|     normal.|normal|\n",
      "|       0|          tcp|   http|  SF|      219|     1337|     normal.|normal|\n",
      "|       0|          tcp|   http|  SF|      217|     2032|     normal.|normal|\n",
      "|       0|          tcp|   http|  SF|      217|     2032|     normal.|normal|\n",
      "|       0|          tcp|   http|  SF|      212|     1940|     normal.|normal|\n",
      "|       0|          tcp|   http|  SF|      159|     4087|     normal.|normal|\n",
      "|       0|          tcp|   http|  SF|      210|      151|     normal.|normal|\n",
      "|       0|          tcp|   http|  SF|      212|      786|     normal.|normal|\n",
      "|       0|          tcp|   http|  SF|      210|      624|     normal.|normal|\n",
      "|       0|          tcp|   http|  SF|      177|     1985|     normal.|normal|\n",
      "|       0|          tcp|   http|  SF|      222|      773|     normal.|normal|\n",
      "|       0|          tcp|   http|  SF|      256|     1169|     normal.|normal|\n",
      "|       0|          tcp|   http|  SF|      241|      259|     normal.|normal|\n",
      "|       0|          tcp|   http|  SF|      260|     1837|     normal.|normal|\n",
      "|       0|          tcp|   http|  SF|      241|      261|     normal.|normal|\n",
      "|       0|          tcp|   http|  SF|      257|      818|     normal.|normal|\n",
      "|       0|          tcp|   http|  SF|      233|      255|     normal.|normal|\n",
      "|       0|          tcp|   http|  SF|      233|      504|     normal.|normal|\n",
      "+--------+-------------+-------+----+---------+---------+------------+------+\n",
      "only showing top 20 rows\n",
      "\n",
      "Requete executee en 1.219 secondes\n"
     ]
    }
   ],
   "source": [
    "udf_attOrNorm = F.udf(attack_or_normal_func, StringType())\n",
    "\n",
    "t1_start = perf_counter()  \n",
    "\n",
    "dfbis = df.withColumn('label', udf_attOrNorm(df.interactions))\n",
    "dfbis.show()\n",
    "\n",
    "t1_stop = perf_counter()  \n",
    "runTimeQuery = t1_stop - t1_start\n",
    "print(\"Requete executee en {0:.3f} secondes\".format(runTimeQuery))"
   ]
  },
  {
   "cell_type": "code",
   "execution_count": 27,
   "metadata": {},
   "outputs": [
    {
     "name": "stdout",
     "output_type": "stream",
     "text": [
      "root\n",
      " |-- duration: integer (nullable = true)\n",
      " |-- protocol_type: string (nullable = true)\n",
      " |-- service: string (nullable = true)\n",
      " |-- flag: string (nullable = true)\n",
      " |-- src_bytes: integer (nullable = true)\n",
      " |-- dst_bytes: integer (nullable = true)\n",
      " |-- interactions: string (nullable = true)\n",
      " |-- label: string (nullable = true)\n",
      "\n"
     ]
    }
   ],
   "source": [
    "dfbis.printSchema()"
   ]
  },
  {
   "cell_type": "code",
   "execution_count": 28,
   "metadata": {},
   "outputs": [
    {
     "name": "stdout",
     "output_type": "stream",
     "text": [
      "+------+------+\n",
      "| label| count|\n",
      "+------+------+\n",
      "|normal| 97278|\n",
      "|attack|396743|\n",
      "+------+------+\n",
      "\n",
      "Requete executee en 10.841 secondes\n"
     ]
    }
   ],
   "source": [
    "t1_start = perf_counter()  \n",
    "\n",
    "dfbis.groupby(\"label\").count().show()\n",
    "\n",
    "t1_stop = perf_counter()  \n",
    "runTimeQuery = t1_stop - t1_start\n",
    "print(\"Requete executee en {0:.3f} secondes\".format(runTimeQuery))"
   ]
  },
  {
   "cell_type": "code",
   "execution_count": 29,
   "metadata": {},
   "outputs": [
    {
     "name": "stdout",
     "output_type": "stream",
     "text": [
      "+------+-------------+------+\n",
      "| label|protocol_type| count|\n",
      "+------+-------------+------+\n",
      "|normal|          udp| 19177|\n",
      "|normal|         icmp|  1288|\n",
      "|normal|          tcp| 76813|\n",
      "|attack|         icmp|282314|\n",
      "|attack|          tcp|113252|\n",
      "|attack|          udp|  1177|\n",
      "+------+-------------+------+\n",
      "\n",
      "Requete executee en 10.897 secondes\n"
     ]
    }
   ],
   "source": [
    "t1_start = perf_counter()  \n",
    "\n",
    "dfbis.groupby(\"label\", \"protocol_type\").count().show()\n",
    "\n",
    "t1_stop = perf_counter()  \n",
    "runTimeQuery = t1_stop - t1_start\n",
    "print(\"Requete executee en {0:.3f} secondes\".format(runTimeQuery))"
   ]
  }
 ],
 "metadata": {
  "kernelspec": {
   "display_name": "Python 3",
   "language": "python",
   "name": "python3"
  },
  "language_info": {
   "codemirror_mode": {
    "name": "ipython",
    "version": 3
   },
   "file_extension": ".py",
   "mimetype": "text/x-python",
   "name": "python",
   "nbconvert_exporter": "python",
   "pygments_lexer": "ipython3",
   "version": "3.7.3"
  }
 },
 "nbformat": 4,
 "nbformat_minor": 2
}
